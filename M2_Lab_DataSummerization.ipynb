{
 "cells": [
  {
   "cell_type": "code",
   "execution_count": 1,
   "metadata": {},
   "outputs": [],
   "source": [
    "import pandas as pd"
   ]
  },
  {
   "cell_type": "code",
   "execution_count": 2,
   "metadata": {},
   "outputs": [],
   "source": [
    "dataset = pd.read_csv(\"sample_googleplaystore-1.csv\")"
   ]
  },
  {
   "cell_type": "code",
   "execution_count": 6,
   "metadata": {},
   "outputs": [
    {
     "data": {
      "text/html": [
       "<div>\n",
       "<style scoped>\n",
       "    .dataframe tbody tr th:only-of-type {\n",
       "        vertical-align: middle;\n",
       "    }\n",
       "\n",
       "    .dataframe tbody tr th {\n",
       "        vertical-align: top;\n",
       "    }\n",
       "\n",
       "    .dataframe thead th {\n",
       "        text-align: right;\n",
       "    }\n",
       "</style>\n",
       "<table border=\"1\" class=\"dataframe\">\n",
       "  <thead>\n",
       "    <tr style=\"text-align: right;\">\n",
       "      <th></th>\n",
       "      <th>App</th>\n",
       "      <th>Category</th>\n",
       "      <th>Rating</th>\n",
       "      <th>Reviews</th>\n",
       "      <th>Size</th>\n",
       "      <th>Installs</th>\n",
       "      <th>Type</th>\n",
       "      <th>Price</th>\n",
       "      <th>Content Rating</th>\n",
       "      <th>Genres</th>\n",
       "      <th>Last Updated</th>\n",
       "      <th>Current Ver</th>\n",
       "      <th>Android Ver</th>\n",
       "    </tr>\n",
       "  </thead>\n",
       "  <tbody>\n",
       "    <tr>\n",
       "      <th>0</th>\n",
       "      <td>Photo Editor &amp; Candy Camera &amp; Grid &amp; ScrapBook</td>\n",
       "      <td>ART_AND_DESIGN</td>\n",
       "      <td>4.1</td>\n",
       "      <td>159</td>\n",
       "      <td>19M</td>\n",
       "      <td>10,000+</td>\n",
       "      <td>Free</td>\n",
       "      <td>0</td>\n",
       "      <td>Everyone</td>\n",
       "      <td>Art &amp; Design</td>\n",
       "      <td>7-Jan-18</td>\n",
       "      <td>1.0.0</td>\n",
       "      <td>4.0.3 and up</td>\n",
       "    </tr>\n",
       "    <tr>\n",
       "      <th>1</th>\n",
       "      <td>Coloring book moana</td>\n",
       "      <td>ART_AND_DESIGN</td>\n",
       "      <td>3.9</td>\n",
       "      <td>967</td>\n",
       "      <td>14M</td>\n",
       "      <td>500,000+</td>\n",
       "      <td>Free</td>\n",
       "      <td>0</td>\n",
       "      <td>Everyone</td>\n",
       "      <td>Art &amp; Design;Pretend Play</td>\n",
       "      <td>15-Jan-18</td>\n",
       "      <td>2.0.0</td>\n",
       "      <td>4.0.3 and up</td>\n",
       "    </tr>\n",
       "    <tr>\n",
       "      <th>2</th>\n",
       "      <td>U Launcher Lite – FREE Live Cool Themes, Hide ...</td>\n",
       "      <td>ART_AND_DESIGN</td>\n",
       "      <td>4.7</td>\n",
       "      <td>87510</td>\n",
       "      <td>8.7M</td>\n",
       "      <td>5,000,000+</td>\n",
       "      <td>Free</td>\n",
       "      <td>0</td>\n",
       "      <td>Everyone</td>\n",
       "      <td>Art &amp; Design</td>\n",
       "      <td>1-Aug-18</td>\n",
       "      <td>1.2.4</td>\n",
       "      <td>4.0.3 and up</td>\n",
       "    </tr>\n",
       "    <tr>\n",
       "      <th>3</th>\n",
       "      <td>Sketch - Draw &amp; Paint</td>\n",
       "      <td>ART_AND_DESIGN</td>\n",
       "      <td>4.5</td>\n",
       "      <td>215644</td>\n",
       "      <td>25M</td>\n",
       "      <td>50,000,000+</td>\n",
       "      <td>Free</td>\n",
       "      <td>0</td>\n",
       "      <td>Teen</td>\n",
       "      <td>Art &amp; Design</td>\n",
       "      <td>8-Jun-18</td>\n",
       "      <td>Varies with device</td>\n",
       "      <td>4.2 and up</td>\n",
       "    </tr>\n",
       "    <tr>\n",
       "      <th>4</th>\n",
       "      <td>Pixel Draw - Number Art Coloring Book</td>\n",
       "      <td>ART_AND_DESIGN</td>\n",
       "      <td>4.3</td>\n",
       "      <td>967</td>\n",
       "      <td>2.8M</td>\n",
       "      <td>100,000+</td>\n",
       "      <td>Free</td>\n",
       "      <td>0</td>\n",
       "      <td>Everyone</td>\n",
       "      <td>Art &amp; Design;Creativity</td>\n",
       "      <td>20-Jun-18</td>\n",
       "      <td>1.1</td>\n",
       "      <td>4.4 and up</td>\n",
       "    </tr>\n",
       "  </tbody>\n",
       "</table>\n",
       "</div>"
      ],
      "text/plain": [
       "                                                 App        Category  Rating  \\\n",
       "0     Photo Editor & Candy Camera & Grid & ScrapBook  ART_AND_DESIGN     4.1   \n",
       "1                                Coloring book moana  ART_AND_DESIGN     3.9   \n",
       "2  U Launcher Lite – FREE Live Cool Themes, Hide ...  ART_AND_DESIGN     4.7   \n",
       "3                              Sketch - Draw & Paint  ART_AND_DESIGN     4.5   \n",
       "4              Pixel Draw - Number Art Coloring Book  ART_AND_DESIGN     4.3   \n",
       "\n",
       "   Reviews  Size     Installs  Type Price Content Rating  \\\n",
       "0      159   19M      10,000+  Free     0       Everyone   \n",
       "1      967   14M     500,000+  Free     0       Everyone   \n",
       "2    87510  8.7M   5,000,000+  Free     0       Everyone   \n",
       "3   215644   25M  50,000,000+  Free     0           Teen   \n",
       "4      967  2.8M     100,000+  Free     0       Everyone   \n",
       "\n",
       "                      Genres Last Updated         Current Ver   Android Ver  \n",
       "0               Art & Design     7-Jan-18               1.0.0  4.0.3 and up  \n",
       "1  Art & Design;Pretend Play    15-Jan-18               2.0.0  4.0.3 and up  \n",
       "2               Art & Design     1-Aug-18               1.2.4  4.0.3 and up  \n",
       "3               Art & Design     8-Jun-18  Varies with device    4.2 and up  \n",
       "4    Art & Design;Creativity    20-Jun-18                 1.1    4.4 and up  "
      ]
     },
     "execution_count": 6,
     "metadata": {},
     "output_type": "execute_result"
    }
   ],
   "source": [
    "dataset[:5]"
   ]
  },
  {
   "cell_type": "code",
   "execution_count": 7,
   "metadata": {},
   "outputs": [
    {
     "data": {
      "text/plain": [
       "0      4.1\n",
       "1      3.9\n",
       "2      4.7\n",
       "3      4.5\n",
       "4      4.3\n",
       "      ... \n",
       "234    4.7\n",
       "235    4.8\n",
       "236    4.2\n",
       "237    4.2\n",
       "238    4.3\n",
       "Name: Rating, Length: 239, dtype: float64"
      ]
     },
     "execution_count": 7,
     "metadata": {},
     "output_type": "execute_result"
    }
   ],
   "source": [
    "dataset['Rating'] #Problem 1"
   ]
  },
  {
   "cell_type": "code",
   "execution_count": 8,
   "metadata": {},
   "outputs": [],
   "source": [
    "overall_avg_rating = dataset['Rating'].mean()"
   ]
  },
  {
   "cell_type": "code",
   "execution_count": 10,
   "metadata": {},
   "outputs": [
    {
     "name": "stdout",
     "output_type": "stream",
     "text": [
      "4.318421052631579\n"
     ]
    }
   ],
   "source": [
    "print(overall_avg_rating)"
   ]
  },
  {
   "cell_type": "code",
   "execution_count": 12,
   "metadata": {},
   "outputs": [
    {
     "data": {
      "text/plain": [
       "['ART_AND_DESIGN',\n",
       " 'AUTO_AND_VEHICLES',\n",
       " 'BEAUTY',\n",
       " 'BOOKS_AND_REFERENCE',\n",
       " 'BUSINESS']"
      ]
     },
     "execution_count": 12,
     "metadata": {},
     "output_type": "execute_result"
    }
   ],
   "source": [
    "#Problem 2\n",
    "\n",
    "dataset['Category'].unique().tolist()"
   ]
  },
  {
   "cell_type": "code",
   "execution_count": 15,
   "metadata": {},
   "outputs": [
    {
     "data": {
      "text/plain": [
       "Category\n",
       "ART_AND_DESIGN         4.316667\n",
       "AUTO_AND_VEHICLES      4.297959\n",
       "BEAUTY                 4.328571\n",
       "BOOKS_AND_REFERENCE    4.371111\n",
       "BUSINESS               4.286275\n",
       "Name: Rating, dtype: float64"
      ]
     },
     "execution_count": 15,
     "metadata": {},
     "output_type": "execute_result"
    }
   ],
   "source": [
    "dataset.groupby('Category')['Rating'].mean()"
   ]
  },
  {
   "cell_type": "code",
   "execution_count": 19,
   "metadata": {},
   "outputs": [
    {
     "name": "stdout",
     "output_type": "stream",
     "text": [
      "ART_AND_DESIGN :  4.316666666666666\n",
      "AUTO_AND_VEHICLES :  4.297959183673469\n",
      "BEAUTY :  4.328571428571428\n",
      "BOOKS_AND_REFERENCE :  4.3711111111111105\n",
      "BUSINESS :  4.286274509803921\n"
     ]
    }
   ],
   "source": [
    "categories = dataset['Category'].unique().tolist()\n",
    "\n",
    "for cat in categories:\n",
    "    category_data = dataset[dataset['Category'] == cat]\n",
    "    \n",
    "    avg_rating = category_data['Rating'].mean()\n",
    "    \n",
    "    print(cat, \": \", avg_rating)\n"
   ]
  },
  {
   "cell_type": "code",
   "execution_count": 21,
   "metadata": {},
   "outputs": [
    {
     "data": {
      "text/html": [
       "<div>\n",
       "<style scoped>\n",
       "    .dataframe tbody tr th:only-of-type {\n",
       "        vertical-align: middle;\n",
       "    }\n",
       "\n",
       "    .dataframe tbody tr th {\n",
       "        vertical-align: top;\n",
       "    }\n",
       "\n",
       "    .dataframe thead th {\n",
       "        text-align: right;\n",
       "    }\n",
       "</style>\n",
       "<table border=\"1\" class=\"dataframe\">\n",
       "  <thead>\n",
       "    <tr style=\"text-align: right;\">\n",
       "      <th></th>\n",
       "      <th>App</th>\n",
       "      <th>Category</th>\n",
       "      <th>Rating</th>\n",
       "      <th>Reviews</th>\n",
       "      <th>Size</th>\n",
       "      <th>Installs</th>\n",
       "      <th>Type</th>\n",
       "      <th>Price</th>\n",
       "      <th>Content Rating</th>\n",
       "      <th>Genres</th>\n",
       "      <th>Last Updated</th>\n",
       "      <th>Current Ver</th>\n",
       "      <th>Android Ver</th>\n",
       "    </tr>\n",
       "  </thead>\n",
       "  <tbody>\n",
       "    <tr>\n",
       "      <th>0</th>\n",
       "      <td>Photo Editor &amp; Candy Camera &amp; Grid &amp; ScrapBook</td>\n",
       "      <td>ART_AND_DESIGN</td>\n",
       "      <td>4.1</td>\n",
       "      <td>159</td>\n",
       "      <td>19M</td>\n",
       "      <td>10,000+</td>\n",
       "      <td>Free</td>\n",
       "      <td>0</td>\n",
       "      <td>Everyone</td>\n",
       "      <td>Art &amp; Design</td>\n",
       "      <td>7-Jan-18</td>\n",
       "      <td>1.0.0</td>\n",
       "      <td>4.0.3 and up</td>\n",
       "    </tr>\n",
       "    <tr>\n",
       "      <th>1</th>\n",
       "      <td>Coloring book moana</td>\n",
       "      <td>ART_AND_DESIGN</td>\n",
       "      <td>3.9</td>\n",
       "      <td>967</td>\n",
       "      <td>14M</td>\n",
       "      <td>500,000+</td>\n",
       "      <td>Free</td>\n",
       "      <td>0</td>\n",
       "      <td>Everyone</td>\n",
       "      <td>Art &amp; Design;Pretend Play</td>\n",
       "      <td>15-Jan-18</td>\n",
       "      <td>2.0.0</td>\n",
       "      <td>4.0.3 and up</td>\n",
       "    </tr>\n",
       "    <tr>\n",
       "      <th>2</th>\n",
       "      <td>U Launcher Lite – FREE Live Cool Themes, Hide ...</td>\n",
       "      <td>ART_AND_DESIGN</td>\n",
       "      <td>4.7</td>\n",
       "      <td>87510</td>\n",
       "      <td>8.7M</td>\n",
       "      <td>5,000,000+</td>\n",
       "      <td>Free</td>\n",
       "      <td>0</td>\n",
       "      <td>Everyone</td>\n",
       "      <td>Art &amp; Design</td>\n",
       "      <td>1-Aug-18</td>\n",
       "      <td>1.2.4</td>\n",
       "      <td>4.0.3 and up</td>\n",
       "    </tr>\n",
       "    <tr>\n",
       "      <th>3</th>\n",
       "      <td>Sketch - Draw &amp; Paint</td>\n",
       "      <td>ART_AND_DESIGN</td>\n",
       "      <td>4.5</td>\n",
       "      <td>215644</td>\n",
       "      <td>25M</td>\n",
       "      <td>50,000,000+</td>\n",
       "      <td>Free</td>\n",
       "      <td>0</td>\n",
       "      <td>Teen</td>\n",
       "      <td>Art &amp; Design</td>\n",
       "      <td>8-Jun-18</td>\n",
       "      <td>Varies with device</td>\n",
       "      <td>4.2 and up</td>\n",
       "    </tr>\n",
       "    <tr>\n",
       "      <th>4</th>\n",
       "      <td>Pixel Draw - Number Art Coloring Book</td>\n",
       "      <td>ART_AND_DESIGN</td>\n",
       "      <td>4.3</td>\n",
       "      <td>967</td>\n",
       "      <td>2.8M</td>\n",
       "      <td>100,000+</td>\n",
       "      <td>Free</td>\n",
       "      <td>0</td>\n",
       "      <td>Everyone</td>\n",
       "      <td>Art &amp; Design;Creativity</td>\n",
       "      <td>20-Jun-18</td>\n",
       "      <td>1.1</td>\n",
       "      <td>4.4 and up</td>\n",
       "    </tr>\n",
       "  </tbody>\n",
       "</table>\n",
       "</div>"
      ],
      "text/plain": [
       "                                                 App        Category  Rating  \\\n",
       "0     Photo Editor & Candy Camera & Grid & ScrapBook  ART_AND_DESIGN     4.1   \n",
       "1                                Coloring book moana  ART_AND_DESIGN     3.9   \n",
       "2  U Launcher Lite – FREE Live Cool Themes, Hide ...  ART_AND_DESIGN     4.7   \n",
       "3                              Sketch - Draw & Paint  ART_AND_DESIGN     4.5   \n",
       "4              Pixel Draw - Number Art Coloring Book  ART_AND_DESIGN     4.3   \n",
       "\n",
       "   Reviews  Size     Installs  Type Price Content Rating  \\\n",
       "0      159   19M      10,000+  Free     0       Everyone   \n",
       "1      967   14M     500,000+  Free     0       Everyone   \n",
       "2    87510  8.7M   5,000,000+  Free     0       Everyone   \n",
       "3   215644   25M  50,000,000+  Free     0           Teen   \n",
       "4      967  2.8M     100,000+  Free     0       Everyone   \n",
       "\n",
       "                      Genres Last Updated         Current Ver   Android Ver  \n",
       "0               Art & Design     7-Jan-18               1.0.0  4.0.3 and up  \n",
       "1  Art & Design;Pretend Play    15-Jan-18               2.0.0  4.0.3 and up  \n",
       "2               Art & Design     1-Aug-18               1.2.4  4.0.3 and up  \n",
       "3               Art & Design     8-Jun-18  Varies with device    4.2 and up  \n",
       "4    Art & Design;Creativity    20-Jun-18                 1.1    4.4 and up  "
      ]
     },
     "execution_count": 21,
     "metadata": {},
     "output_type": "execute_result"
    }
   ],
   "source": [
    "dataset[:5]"
   ]
  },
  {
   "cell_type": "code",
   "execution_count": 43,
   "metadata": {},
   "outputs": [],
   "source": [
    "#problem 3\n",
    "\n",
    "non_numeric = [\"App\", \"Category\", \"Size\", \"Installs\",\"Type\", \"Content Rating\", \"Genres\", \"Last Updated\", \"Current Ver\", \"Android Ver\"]\n",
    "dataset2 = dataset[non_numeric]\n",
    "\n"
   ]
  },
  {
   "cell_type": "code",
   "execution_count": 44,
   "metadata": {},
   "outputs": [
    {
     "name": "stdout",
     "output_type": "stream",
     "text": [
      "App\n",
      "Quick PDF Scanner + OCR FREE                         2\n",
      "Box                                                  2\n",
      "FBReader: Favorite Book Reader                       1\n",
      "Free Books - Spirit Fanfiction and Stories           1\n",
      "Google Play Books                                    1\n",
      "                                                    ..\n",
      "Speed Camera Detector - Traffic & Speed Alert        1\n",
      "Used car search Goo net whole car Go to net          1\n",
      "CarMax – Cars for Sale: Search Used Car Inventory    1\n",
      "BEST CAR SOUNDS                                      1\n",
      "Google Ads                                           1\n",
      "Name: count, Length: 237, dtype: int64\n",
      "+-++-++-++-++-++-++-++-++-++-++-++-++-++-++-++-++-++-++-++-+\n",
      "Category\n",
      "BUSINESS               52\n",
      "ART_AND_DESIGN         49\n",
      "AUTO_AND_VEHICLES      49\n",
      "BOOKS_AND_REFERENCE    48\n",
      "BEAUTY                 41\n",
      "Name: count, dtype: int64\n",
      "+-++-++-++-++-++-++-++-++-++-++-++-++-++-++-++-++-++-++-++-+\n",
      "Size\n",
      "Varies with device    49\n",
      "14M                    8\n",
      "17M                    7\n",
      "25M                    7\n",
      "2.9M                   6\n",
      "                      ..\n",
      "4.5M                   1\n",
      "9.8M                   1\n",
      "52M                    1\n",
      "9.0M                   1\n",
      "7.5M                   1\n",
      "Name: count, Length: 94, dtype: int64\n",
      "+-++-++-++-++-++-++-++-++-++-++-++-++-++-++-++-++-++-++-++-+\n",
      "Installs\n",
      "100,000+          60\n",
      "1,000,000+        50\n",
      "500,000+          27\n",
      "10,000,000+       26\n",
      "10,000+           24\n",
      "5,000,000+        23\n",
      "50,000+           17\n",
      "50,000,000+        5\n",
      "5,000+             3\n",
      "100,000,000+       3\n",
      "1,000,000,000+     1\n",
      "Name: count, dtype: int64\n",
      "+-++-++-++-++-++-++-++-++-++-++-++-++-++-++-++-++-++-++-++-+\n",
      "Type\n",
      "Free    237\n",
      "Paid      2\n",
      "Name: count, dtype: int64\n",
      "+-++-++-++-++-++-++-++-++-++-++-++-++-++-++-++-++-++-++-++-+\n",
      "Content Rating\n",
      "Everyone        214\n",
      "Teen             14\n",
      "Everyone 10+      6\n",
      "Mature 17+        5\n",
      "Name: count, dtype: int64\n",
      "+-++-++-++-++-++-++-++-++-++-++-++-++-++-++-++-++-++-++-++-+\n",
      "Genres\n",
      "Business                           52\n",
      "Auto & Vehicles                    49\n",
      "Books & Reference                  48\n",
      "Art & Design                       42\n",
      "Beauty                             41\n",
      "Art & Design;Creativity             5\n",
      "Art & Design;Pretend Play           1\n",
      "Art & Design;Action & Adventure     1\n",
      "Name: count, dtype: int64\n",
      "+-++-++-++-++-++-++-++-++-++-++-++-++-++-++-++-++-++-++-++-+\n",
      "Last Updated\n",
      "30-Jul-18    12\n",
      "2-Aug-18     11\n",
      "31-Jul-18     9\n",
      "1-Aug-18      7\n",
      "26-Jul-18     6\n",
      "             ..\n",
      "15-Jul-18     1\n",
      "16-Jul-18     1\n",
      "25-May-18     1\n",
      "14-Oct-16     1\n",
      "11-Apr-17     1\n",
      "Name: count, Length: 121, dtype: int64\n",
      "+-++-++-++-++-++-++-++-++-++-++-++-++-++-++-++-++-++-++-++-+\n",
      "Current Ver\n",
      "Varies with device    45\n",
      "1                     15\n",
      "1.1                    6\n",
      "3                      5\n",
      "1.6                    5\n",
      "                      ..\n",
      "2.3.5.1                1\n",
      "1.79                   1\n",
      "2.9                    1\n",
      "2.2.21                 1\n",
      "1.12.0                 1\n",
      "Name: count, Length: 132, dtype: int64\n",
      "+-++-++-++-++-++-++-++-++-++-++-++-++-++-++-++-++-++-++-++-+\n",
      "Android Ver\n",
      "4.0.3 and up          54\n",
      "4.1 and up            48\n",
      "Varies with device    37\n",
      "4.0 and up            32\n",
      "2.3 and up            13\n",
      "4.2 and up            11\n",
      "4.4 and up            10\n",
      "3.0 and up            10\n",
      "5.0 and up             7\n",
      "2.2 and up             4\n",
      "6.0 and up             3\n",
      "2.3.3 and up           2\n",
      "1.5 and up             2\n",
      "7.0 and up             2\n",
      "1.6 and up             1\n",
      "2.1 and up             1\n",
      "5.1 and up             1\n",
      "4.3 and up             1\n",
      "Name: count, dtype: int64\n",
      "+-++-++-++-++-++-++-++-++-++-++-++-++-++-++-++-++-++-++-++-+\n"
     ]
    }
   ],
   "source": [
    "for cat in non_numeric:\n",
    "    print(dataset2[cat].value_counts())\n",
    "    print(\"+-+\"*20)"
   ]
  },
  {
   "cell_type": "code",
   "execution_count": 45,
   "metadata": {},
   "outputs": [
    {
     "data": {
      "text/plain": [
       "Type\n",
       "Free    237\n",
       "Paid      2\n",
       "Name: count, dtype: int64"
      ]
     },
     "execution_count": 45,
     "metadata": {},
     "output_type": "execute_result"
    }
   ],
   "source": [
    "#number of free vs paid apps.\n",
    "\n",
    "dataset2['Type'].value_counts()"
   ]
  },
  {
   "cell_type": "code",
   "execution_count": 49,
   "metadata": {},
   "outputs": [],
   "source": [
    "#problem 3 part b.\n",
    "\n",
    "numeric = ['Rating', \"Reviews\"] #only these two were, as the 'Installs' had the '+' sign and the notebook was telling its datatype as object. \n",
    "\n",
    "dataset3 = dataset[numeric]"
   ]
  },
  {
   "cell_type": "code",
   "execution_count": 78,
   "metadata": {},
   "outputs": [
    {
     "name": "stdout",
     "output_type": "stream",
     "text": [
      "Rating \n",
      "  max: 4.9 \n",
      "  Min:  3.1 \n",
      "  mean:  4.318421052631579\n",
      "Reviews \n",
      "  max: 2914724 \n",
      "  Min:  2 \n",
      "  mean:  77748.45606694561\n"
     ]
    }
   ],
   "source": [
    "for cat in numeric:\n",
    "    max = dataset3[cat].max()\n",
    "    min = dataset3[cat].min()\n",
    "    mean = dataset3[cat].mean()\n",
    "    print(cat,\"\\n \", \"max:\", max,\"\\n  Min: \", min,\"\\n  mean: \", mean)"
   ]
  },
  {
   "cell_type": "code",
   "execution_count": null,
   "metadata": {},
   "outputs": [],
   "source": []
  },
  {
   "cell_type": "code",
   "execution_count": null,
   "metadata": {},
   "outputs": [],
   "source": []
  }
 ],
 "metadata": {
  "kernelspec": {
   "display_name": "Python 3",
   "language": "python",
   "name": "python3"
  },
  "language_info": {
   "codemirror_mode": {
    "name": "ipython",
    "version": 3
   },
   "file_extension": ".py",
   "mimetype": "text/x-python",
   "name": "python",
   "nbconvert_exporter": "python",
   "pygments_lexer": "ipython3",
   "version": "3.12.4"
  }
 },
 "nbformat": 4,
 "nbformat_minor": 2
}
