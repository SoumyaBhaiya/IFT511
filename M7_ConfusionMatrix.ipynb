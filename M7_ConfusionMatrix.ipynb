{
 "cells": [
  {
   "cell_type": "code",
   "execution_count": null,
   "metadata": {},
   "outputs": [],
   "source": [
    "from sklearn.datasets import load_svmlight_file\n",
    "from sklearn import svm\n",
    "from sklearn.model_selection import cross_val_predict\n",
    "from sklearn.metrics import confusion_matrix, recall_score, precision_score, f1_score\n",
    "\n"
   ]
  },
  {
   "cell_type": "code",
   "execution_count": 3,
   "metadata": {},
   "outputs": [],
   "source": [
    "'''Making a function to avoid repetition of the code. It's going to take \n",
    "any values that the classifier is going to need like gamma, degree\n",
    "params, verbose etc etc.'''\n",
    "\n",
    "\n",
    "def evaluate_classifier(X, y, kernel, **kwargs):\n",
    "    print(f\"\\nEvaluating SVM with {kernel} kernel and parameters {kwargs}...\")\n",
    "    \n",
    "    \n",
    "    clf = svm.SVC(kernel=kernel, C=1, random_state=42, **kwargs)\n",
    "    \n",
    "    #predictions for 5fold. \n",
    "    y_pred = cross_val_predict(clf, X, y, cv=5)\n",
    "\n",
    "    #confusion matrix.\n",
    "    cm = confusion_matrix(y, y_pred)\n",
    "    print(f\"Confusion Matrix:\\n{cm}\")\n",
    "\n",
    "    #what is asked to calculate. \n",
    "    TN, FP, FN, TP = cm.ravel()\n",
    "\n",
    "    \n",
    "    TPR = TP / (TP + FN)  #as we know.\n",
    "    TNR = TN / (TN + FP)  #as we konw \n",
    "    Recall = recall_score(y, y_pred)\n",
    "    Precision = precision_score(y, y_pred)\n",
    "    F1 = f1_score(y, y_pred)\n",
    "\n",
    "    #printing the results. \n",
    "    print(f\"TPR (Sensitivity/Recall): {TPR:.2f}\")\n",
    "    print(f\"TNR (Specificity): {TNR:.2f}\")\n",
    "    print(f\"Recall: {Recall:.2f}\")\n",
    "    print(f\"Precision: {Precision:.2f}\")\n",
    "    print(f\"F1-Score: {F1:.2f}\")\n",
    "\n",
    "\n"
   ]
  },
  {
   "cell_type": "code",
   "execution_count": 4,
   "metadata": {},
   "outputs": [
    {
     "name": "stdout",
     "output_type": "stream",
     "text": [
      "Loading Dataset...\n"
     ]
    }
   ],
   "source": [
    "\n",
    "print(\"Loading Dataset...\")\n",
    "X, y = load_svmlight_file(\"a1a.txt\")\n",
    "\n"
   ]
  },
  {
   "cell_type": "code",
   "execution_count": 5,
   "metadata": {},
   "outputs": [
    {
     "name": "stdout",
     "output_type": "stream",
     "text": [
      "\n",
      "Evaluating SVM with linear kernel and parameters {}...\n",
      "Confusion Matrix:\n",
      "[[1109  101]\n",
      " [ 176  219]]\n",
      "TPR (Sensitivity/Recall): 0.55\n",
      "TNR (Specificity): 0.92\n",
      "Recall: 0.55\n",
      "Precision: 0.68\n",
      "F1-Score: 0.61\n",
      "\n",
      "Evaluating SVM with rbf kernel and parameters {'gamma': 0.1}...\n",
      "Confusion Matrix:\n",
      "[[1125   85]\n",
      " [ 190  205]]\n",
      "TPR (Sensitivity/Recall): 0.52\n",
      "TNR (Specificity): 0.93\n",
      "Recall: 0.52\n",
      "Precision: 0.71\n",
      "F1-Score: 0.60\n",
      "\n",
      "Evaluating SVM with rbf kernel and parameters {'gamma': 0.01}...\n",
      "Confusion Matrix:\n",
      "[[1154   56]\n",
      " [ 228  167]]\n",
      "TPR (Sensitivity/Recall): 0.42\n",
      "TNR (Specificity): 0.95\n",
      "Recall: 0.42\n",
      "Precision: 0.75\n",
      "F1-Score: 0.54\n",
      "\n",
      "Evaluating SVM with poly kernel and parameters {'degree': 2}...\n",
      "Confusion Matrix:\n",
      "[[1127   83]\n",
      " [ 187  208]]\n",
      "TPR (Sensitivity/Recall): 0.53\n",
      "TNR (Specificity): 0.93\n",
      "Recall: 0.53\n",
      "Precision: 0.71\n",
      "F1-Score: 0.61\n"
     ]
    }
   ],
   "source": [
    "#running the function\n",
    "evaluate_classifier(X, y, kernel=\"linear\")\n",
    "evaluate_classifier(X, y, kernel=\"rbf\", gamma=0.1)\n",
    "evaluate_classifier(X, y, kernel=\"rbf\", gamma=0.01)\n",
    "evaluate_classifier(X, y, kernel=\"poly\", degree=2)"
   ]
  },
  {
   "cell_type": "code",
   "execution_count": null,
   "metadata": {},
   "outputs": [],
   "source": []
  }
 ],
 "metadata": {
  "kernelspec": {
   "display_name": "Python 3",
   "language": "python",
   "name": "python3"
  },
  "language_info": {
   "codemirror_mode": {
    "name": "ipython",
    "version": 3
   },
   "file_extension": ".py",
   "mimetype": "text/x-python",
   "name": "python",
   "nbconvert_exporter": "python",
   "pygments_lexer": "ipython3",
   "version": "3.12.4"
  }
 },
 "nbformat": 4,
 "nbformat_minor": 2
}
