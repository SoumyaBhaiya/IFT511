{
 "cells": [
  {
   "cell_type": "code",
   "execution_count": 1,
   "metadata": {},
   "outputs": [],
   "source": [
    "#will be performign the clustering on the dataset Country-data.csv \n",
    "\n",
    "import pandas as pd\n",
    "from sklearn.preprocessing import StandardScaler\n",
    "from sklearn.cluster import KMeans, AgglomerativeClustering"
   ]
  },
  {
   "cell_type": "code",
   "execution_count": 2,
   "metadata": {},
   "outputs": [],
   "source": [
    "df = pd.read_csv(\"Country-data.csv\")"
   ]
  },
  {
   "cell_type": "code",
   "execution_count": 3,
   "metadata": {},
   "outputs": [
    {
     "name": "stdout",
     "output_type": "stream",
     "text": [
      "<class 'pandas.core.frame.DataFrame'>\n",
      "RangeIndex: 167 entries, 0 to 166\n",
      "Data columns (total 10 columns):\n",
      " #   Column      Non-Null Count  Dtype  \n",
      "---  ------      --------------  -----  \n",
      " 0   country     167 non-null    object \n",
      " 1   child_mort  167 non-null    float64\n",
      " 2   exports     167 non-null    float64\n",
      " 3   health      167 non-null    float64\n",
      " 4   imports     167 non-null    float64\n",
      " 5   income      167 non-null    int64  \n",
      " 6   inflation   167 non-null    float64\n",
      " 7   life_expec  167 non-null    float64\n",
      " 8   total_fer   167 non-null    float64\n",
      " 9   gdpp        167 non-null    int64  \n",
      "dtypes: float64(7), int64(2), object(1)\n",
      "memory usage: 13.2+ KB\n"
     ]
    }
   ],
   "source": [
    "df.info()"
   ]
  },
  {
   "cell_type": "code",
   "execution_count": 4,
   "metadata": {},
   "outputs": [
    {
     "data": {
      "text/html": [
       "<div>\n",
       "<style scoped>\n",
       "    .dataframe tbody tr th:only-of-type {\n",
       "        vertical-align: middle;\n",
       "    }\n",
       "\n",
       "    .dataframe tbody tr th {\n",
       "        vertical-align: top;\n",
       "    }\n",
       "\n",
       "    .dataframe thead th {\n",
       "        text-align: right;\n",
       "    }\n",
       "</style>\n",
       "<table border=\"1\" class=\"dataframe\">\n",
       "  <thead>\n",
       "    <tr style=\"text-align: right;\">\n",
       "      <th></th>\n",
       "      <th>country</th>\n",
       "      <th>child_mort</th>\n",
       "      <th>exports</th>\n",
       "      <th>health</th>\n",
       "      <th>imports</th>\n",
       "      <th>income</th>\n",
       "      <th>inflation</th>\n",
       "      <th>life_expec</th>\n",
       "      <th>total_fer</th>\n",
       "      <th>gdpp</th>\n",
       "    </tr>\n",
       "  </thead>\n",
       "  <tbody>\n",
       "    <tr>\n",
       "      <th>0</th>\n",
       "      <td>Afghanistan</td>\n",
       "      <td>90.2</td>\n",
       "      <td>10.0</td>\n",
       "      <td>7.58</td>\n",
       "      <td>44.9</td>\n",
       "      <td>1610</td>\n",
       "      <td>9.44</td>\n",
       "      <td>56.2</td>\n",
       "      <td>5.82</td>\n",
       "      <td>553</td>\n",
       "    </tr>\n",
       "    <tr>\n",
       "      <th>1</th>\n",
       "      <td>Albania</td>\n",
       "      <td>16.6</td>\n",
       "      <td>28.0</td>\n",
       "      <td>6.55</td>\n",
       "      <td>48.6</td>\n",
       "      <td>9930</td>\n",
       "      <td>4.49</td>\n",
       "      <td>76.3</td>\n",
       "      <td>1.65</td>\n",
       "      <td>4090</td>\n",
       "    </tr>\n",
       "    <tr>\n",
       "      <th>2</th>\n",
       "      <td>Algeria</td>\n",
       "      <td>27.3</td>\n",
       "      <td>38.4</td>\n",
       "      <td>4.17</td>\n",
       "      <td>31.4</td>\n",
       "      <td>12900</td>\n",
       "      <td>16.10</td>\n",
       "      <td>76.5</td>\n",
       "      <td>2.89</td>\n",
       "      <td>4460</td>\n",
       "    </tr>\n",
       "    <tr>\n",
       "      <th>3</th>\n",
       "      <td>Angola</td>\n",
       "      <td>119.0</td>\n",
       "      <td>62.3</td>\n",
       "      <td>2.85</td>\n",
       "      <td>42.9</td>\n",
       "      <td>5900</td>\n",
       "      <td>22.40</td>\n",
       "      <td>60.1</td>\n",
       "      <td>6.16</td>\n",
       "      <td>3530</td>\n",
       "    </tr>\n",
       "    <tr>\n",
       "      <th>4</th>\n",
       "      <td>Antigua and Barbuda</td>\n",
       "      <td>10.3</td>\n",
       "      <td>45.5</td>\n",
       "      <td>6.03</td>\n",
       "      <td>58.9</td>\n",
       "      <td>19100</td>\n",
       "      <td>1.44</td>\n",
       "      <td>76.8</td>\n",
       "      <td>2.13</td>\n",
       "      <td>12200</td>\n",
       "    </tr>\n",
       "  </tbody>\n",
       "</table>\n",
       "</div>"
      ],
      "text/plain": [
       "               country  child_mort  exports  health  imports  income  \\\n",
       "0          Afghanistan        90.2     10.0    7.58     44.9    1610   \n",
       "1              Albania        16.6     28.0    6.55     48.6    9930   \n",
       "2              Algeria        27.3     38.4    4.17     31.4   12900   \n",
       "3               Angola       119.0     62.3    2.85     42.9    5900   \n",
       "4  Antigua and Barbuda        10.3     45.5    6.03     58.9   19100   \n",
       "\n",
       "   inflation  life_expec  total_fer   gdpp  \n",
       "0       9.44        56.2       5.82    553  \n",
       "1       4.49        76.3       1.65   4090  \n",
       "2      16.10        76.5       2.89   4460  \n",
       "3      22.40        60.1       6.16   3530  \n",
       "4       1.44        76.8       2.13  12200  "
      ]
     },
     "execution_count": 4,
     "metadata": {},
     "output_type": "execute_result"
    }
   ],
   "source": [
    "df.head()"
   ]
  },
  {
   "cell_type": "code",
   "execution_count": 6,
   "metadata": {},
   "outputs": [],
   "source": [
    "countries = df['country']\n",
    "features = df.drop('country', axis=1)\n",
    "\n",
    "#standardizing the values.\n",
    "scaler = StandardScaler()\n",
    "scaled_features = scaler.fit_transform(features)"
   ]
  },
  {
   "cell_type": "code",
   "execution_count": 7,
   "metadata": {},
   "outputs": [
    {
     "data": {
      "text/html": [
       "<div>\n",
       "<style scoped>\n",
       "    .dataframe tbody tr th:only-of-type {\n",
       "        vertical-align: middle;\n",
       "    }\n",
       "\n",
       "    .dataframe tbody tr th {\n",
       "        vertical-align: top;\n",
       "    }\n",
       "\n",
       "    .dataframe thead th {\n",
       "        text-align: right;\n",
       "    }\n",
       "</style>\n",
       "<table border=\"1\" class=\"dataframe\">\n",
       "  <thead>\n",
       "    <tr style=\"text-align: right;\">\n",
       "      <th></th>\n",
       "      <th>country</th>\n",
       "      <th>ClusterID</th>\n",
       "    </tr>\n",
       "  </thead>\n",
       "  <tbody>\n",
       "    <tr>\n",
       "      <th>58</th>\n",
       "      <td>Germany</td>\n",
       "      <td>0</td>\n",
       "    </tr>\n",
       "    <tr>\n",
       "      <th>82</th>\n",
       "      <td>Kuwait</td>\n",
       "      <td>0</td>\n",
       "    </tr>\n",
       "    <tr>\n",
       "      <th>134</th>\n",
       "      <td>Slovak Republic</td>\n",
       "      <td>0</td>\n",
       "    </tr>\n",
       "    <tr>\n",
       "      <th>135</th>\n",
       "      <td>Slovenia</td>\n",
       "      <td>0</td>\n",
       "    </tr>\n",
       "    <tr>\n",
       "      <th>79</th>\n",
       "      <td>Kazakhstan</td>\n",
       "      <td>0</td>\n",
       "    </tr>\n",
       "  </tbody>\n",
       "</table>\n",
       "</div>"
      ],
      "text/plain": [
       "             country  ClusterID\n",
       "58           Germany          0\n",
       "82            Kuwait          0\n",
       "134  Slovak Republic          0\n",
       "135         Slovenia          0\n",
       "79        Kazakhstan          0"
      ]
     },
     "execution_count": 7,
     "metadata": {},
     "output_type": "execute_result"
    }
   ],
   "source": [
    "kmeans = KMeans(n_clusters=2, random_state=42, n_init=10)\n",
    "kmeans_labels = kmeans.fit_predict(scaled_features)\n",
    "\n",
    "#careaing the result.\n",
    "kmeans_df = pd.DataFrame({'country': countries, 'ClusterID': kmeans_labels})\n",
    "kmeans_df = kmeans_df.sort_values(by='ClusterID')\n",
    "\n",
    "#saving in csv \n",
    "kmeans_df.to_csv('KMeans_K2_clusters.csv', index=False)\n",
    "kmeans_df.head()"
   ]
  },
  {
   "cell_type": "code",
   "execution_count": null,
   "metadata": {},
   "outputs": [],
   "source": [
    "# when k == 3\n",
    "kmeans3 = KMeans(n_clusters=3, random_state=42, n_init=10)\n",
    "labels3 = kmeans3.fit_predict(scaled_features)\n",
    "df_k3 = pd.DataFrame({'Country': countries, 'ClusterID': labels3}).sort_values(by='ClusterID')\n",
    "df_k3.to_csv('KMeans_k3.csv', index=False)\n"
   ]
  },
  {
   "cell_type": "code",
   "execution_count": null,
   "metadata": {},
   "outputs": [],
   "source": [
    "\n",
    "# when k ==4\n",
    "kmeans4 = KMeans(n_clusters=4, random_state=42, n_init=10)\n",
    "labels4 = kmeans4.fit_predict(scaled_features)\n",
    "df_k4 = pd.DataFrame({'Country': countries, 'ClusterID': labels4}).sort_values(by='ClusterID')\n",
    "df_k4.to_csv('KMeans_k4.csv', index=False)\n"
   ]
  },
  {
   "cell_type": "code",
   "execution_count": 10,
   "metadata": {},
   "outputs": [],
   "source": [
    "#when k == 6\n",
    "kmeans6 = KMeans(n_clusters=6, random_state=42, n_init=10)\n",
    "labels6 = kmeans6.fit_predict(scaled_features)\n",
    "df_k6 = pd.DataFrame({'Country': countries, 'ClusterID': labels6}).sort_values(by='ClusterID')\n",
    "df_k6.to_csv('KMeans_k6.csv', index=False)"
   ]
  },
  {
   "cell_type": "code",
   "execution_count": 11,
   "metadata": {},
   "outputs": [],
   "source": [
    "#agg cluter with k == 2\n",
    "agg2 = AgglomerativeClustering(n_clusters=2)\n",
    "agg_labels2 = agg2.fit_predict(scaled_features)\n",
    "df_agg2 = pd.DataFrame({'Country': countries, 'ClusterID': agg_labels2}).sort_values(by='ClusterID')\n",
    "df_agg2.to_csv('Agglomerative_k2.csv', index=False)\n",
    "\n",
    "#agg cluter with k == 3\n",
    "agg3 = AgglomerativeClustering(n_clusters=3)\n",
    "agg_labels3 = agg3.fit_predict(scaled_features)\n",
    "df_agg3 = pd.DataFrame({'Country': countries, 'ClusterID': agg_labels3}).sort_values(by='ClusterID')\n",
    "df_agg3.to_csv('Agglomerative_k3.csv', index=False)\n",
    "\n",
    "#agg cluter with k == 4\n",
    "agg4 = AgglomerativeClustering(n_clusters=4)\n",
    "agg_labels4 = agg4.fit_predict(scaled_features)\n",
    "df_agg4 = pd.DataFrame({'Country': countries, 'ClusterID': agg_labels4}).sort_values(by='ClusterID')\n",
    "df_agg4.to_csv('Agglomerative_k4.csv', index=False)\n",
    "\n",
    "#agg cluter with k == 6\n",
    "agg6 = AgglomerativeClustering(n_clusters=6)\n",
    "agg_labels6 = agg6.fit_predict(scaled_features)\n",
    "df_agg6 = pd.DataFrame({'Country': countries, 'ClusterID': agg_labels6}).sort_values(by='ClusterID')\n",
    "df_agg6.to_csv('Agglomerative_k6.csv', index=False)\n",
    "\n",
    "\n"
   ]
  },
  {
   "cell_type": "code",
   "execution_count": 12,
   "metadata": {},
   "outputs": [],
   "source": [
    "from sklearn.cluster import DBSCAN"
   ]
  },
  {
   "cell_type": "code",
   "execution_count": 13,
   "metadata": {},
   "outputs": [
    {
     "name": "stdout",
     "output_type": "stream",
     "text": [
      "Number of clusters found: 5\n",
      "Number of noise points: 84\n"
     ]
    }
   ],
   "source": [
    "db = DBSCAN(eps=800, min_samples=3)\n",
    "labels = db.fit_predict(features)\n",
    "\n",
    "df_dbscan = pd.DataFrame({'country': countries, 'ClusterID': labels}).sort_values(by='ClusterID')\n",
    "df_dbscan.to_csv('DBSCAN_eps800_min3.csv', index=False)\n",
    "\n",
    "\n",
    "n_clusters = len(set(labels)) - (1 if -1 in labels else 0)\n",
    "n_noise = list(labels).count(-1)\n",
    "\n",
    "print(f\"Number of clusters found: {n_clusters}\")\n",
    "print(f\"Number of noise points: {n_noise}\")"
   ]
  },
  {
   "cell_type": "code",
   "execution_count": 18,
   "metadata": {},
   "outputs": [],
   "source": [
    "results = []\n",
    "\n",
    "for eps in range(700, 1000, 100):  # 700, 800, 900\n",
    "    for min_samples in range(2, 4):  # 2, 3\n",
    "        db = DBSCAN(eps=eps, min_samples=min_samples)\n",
    "        labels = db.fit_predict(features)\n",
    "        \n",
    "        num_clusters = len(set(labels)) - (1 if -1 in labels else 0)\n",
    "        num_noise = list(labels).count(-1)\n",
    "\n",
    "        result_df = pd.DataFrame({'Country': countries, 'ClusterID': labels}).sort_values(by='ClusterID')\n",
    "        filename = f\"DBSCAN_eps{eps}_min{min_samples}.csv\"\n",
    "        result_df.to_csv(filename, index=False)\n",
    "\n",
    "        results.append((eps, min_samples, num_clusters, num_noise))\n",
    "\n"
   ]
  },
  {
   "cell_type": "code",
   "execution_count": 20,
   "metadata": {},
   "outputs": [
    {
     "name": "stdout",
     "output_type": "stream",
     "text": [
      "\n",
      "Summary of DBSCAN runs:\n",
      "eps=700, min_samples=2 == clusters=11, noise points=74\n",
      "eps=700, min_samples=3 == clusters=6, noise points=84\n",
      "eps=800, min_samples=2 == clusters=14, noise points=66\n",
      "eps=800, min_samples=3 == clusters=5, noise points=84\n",
      "eps=900, min_samples=2 == clusters=14, noise points=60\n",
      "eps=900, min_samples=3 == clusters=7, noise points=74\n"
     ]
    }
   ],
   "source": [
    "\n",
    "print(\"\\nSummary of DBSCAN runs:\")\n",
    "for eps, min_samples, clusters, noise in results:\n",
    "    print(f\"eps={eps}, min_samples={min_samples} == clusters={clusters}, noise points={noise}\")"
   ]
  },
  {
   "cell_type": "code",
   "execution_count": null,
   "metadata": {},
   "outputs": [],
   "source": []
  }
 ],
 "metadata": {
  "kernelspec": {
   "display_name": "Python 3",
   "language": "python",
   "name": "python3"
  },
  "language_info": {
   "codemirror_mode": {
    "name": "ipython",
    "version": 3
   },
   "file_extension": ".py",
   "mimetype": "text/x-python",
   "name": "python",
   "nbconvert_exporter": "python",
   "pygments_lexer": "ipython3",
   "version": "3.12.4"
  }
 },
 "nbformat": 4,
 "nbformat_minor": 2
}
