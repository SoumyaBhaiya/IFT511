{
 "cells": [
  {
   "cell_type": "code",
   "execution_count": 1,
   "metadata": {},
   "outputs": [
    {
     "name": "stdout",
     "output_type": "stream",
     "text": [
      "Thomas\n",
      "Raj\n",
      "Sarah\n",
      "Clementine\n",
      "Soumya\n",
      "Kavya\n",
      "Justice\n"
     ]
    }
   ],
   "source": [
    "#problem 1\n",
    "\n",
    "listy =  [\"Thomas\", \"Raj\", \"Sarah\", \"Clementine\", \"Soumya\", \"Kavya\", \"Justice\"]\n",
    "\n",
    "for names in listy:\n",
    "    print(names)"
   ]
  },
  {
   "cell_type": "code",
   "execution_count": 10,
   "metadata": {},
   "outputs": [
    {
     "name": "stdout",
     "output_type": "stream",
     "text": [
      "Thomas  is a:  Engineer\n",
      "Raj  is a:  Mechanic\n",
      "Sarah  is a:  Firefighter\n",
      "Clementine  is a:  Teacher\n",
      "Soumya  is a:  CEO\n",
      "Kavya  is a:  CEO\n",
      "Justice  is a:  Unemployed\n"
     ]
    }
   ],
   "source": [
    "#problem 2\n",
    "\n",
    "a_dict = {\"Thomas\": \"Engineer\",\n",
    "          \"Raj\": \"Mechanic\",\n",
    "          \"Sarah\": \"Firefighter\",\n",
    "          \"Clementine\": \"Teacher\",\n",
    "          \"Soumya\": \"CEO\",\n",
    "          \"Kavya\": \"CEO\",\n",
    "          \"Justice\": \"Unemployed\"}\n",
    "\n",
    "for name, job in a_dict.items():\n",
    "    print(name, \" is a: \", job )"
   ]
  },
  {
   "cell_type": "code",
   "execution_count": 12,
   "metadata": {},
   "outputs": [],
   "source": [
    "#problem 3\n",
    "\n"
   ]
  },
  {
   "cell_type": "code",
   "execution_count": null,
   "metadata": {},
   "outputs": [],
   "source": []
  }
 ],
 "metadata": {
  "kernelspec": {
   "display_name": "Python 3",
   "language": "python",
   "name": "python3"
  },
  "language_info": {
   "codemirror_mode": {
    "name": "ipython",
    "version": 3
   },
   "file_extension": ".py",
   "mimetype": "text/x-python",
   "name": "python",
   "nbconvert_exporter": "python",
   "pygments_lexer": "ipython3",
   "version": "3.12.4"
  }
 },
 "nbformat": 4,
 "nbformat_minor": 2
}
