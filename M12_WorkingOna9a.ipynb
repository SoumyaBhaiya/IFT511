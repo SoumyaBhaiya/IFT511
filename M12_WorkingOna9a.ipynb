{
 "cells": [
  {
   "cell_type": "code",
   "execution_count": 7,
   "id": "0360a693",
   "metadata": {},
   "outputs": [],
   "source": [
    "#Working on a9a dataset on this.\n",
    "#will be applying, naive bayes, decision tree and svm and see accuracy in each case.\n",
    "#used library? scikit learn and numpy"
   ]
  },
  {
   "cell_type": "code",
   "execution_count": 8,
   "id": "48d1959e",
   "metadata": {},
   "outputs": [],
   "source": [
    "from sklearn.datasets import load_svmlight_file\n",
    "from sklearn.model_selection import train_test_split, GridSearchCV\n",
    "from sklearn.pipeline import Pipeline\n",
    "from sklearn.preprocessing import StandardScaler\n",
    "from sklearn.naive_bayes import GaussianNB\n",
    "from sklearn.tree import DecisionTreeClassifier\n",
    "from sklearn.svm import SVC\n",
    "from sklearn.metrics import accuracy_score\n",
    "import numpy as np "
   ]
  },
  {
   "cell_type": "code",
   "execution_count": 10,
   "id": "d5f8640e",
   "metadata": {},
   "outputs": [],
   "source": [
    "#dataset is in the same folder. \n",
    "X_sparse, y = load_svmlight_file('a9a.txt')\n",
    "X = np.asarray(X_sparse.todense())\n",
    "\n",
    "\n",
    "#splitting the dataset 70-30 as given in the question \n",
    "X_train, X_test, y_train, y_test = train_test_split(X, y, test_size=0.3, random_state=42)\n",
    "\n"
   ]
  },
  {
   "cell_type": "code",
   "execution_count": 11,
   "id": "0f6417b1",
   "metadata": {},
   "outputs": [
    {
     "name": "stdout",
     "output_type": "stream",
     "text": [
      "Gaussian Naive Bayes Accuracy: 0.4609\n"
     ]
    }
   ],
   "source": [
    "# ========== Gaussian Naive Bayes ==========\n",
    "pipe_gnb = Pipeline([\n",
    "    ('scaler', StandardScaler()),\n",
    "    ('gnb', GaussianNB())\n",
    "])\n",
    "\n",
    "pipe_gnb.fit(X_train, y_train)\n",
    "gnb_accuracy = pipe_gnb.score(X_test, y_test)\n",
    "print(f\"Gaussian Naive Bayes Accuracy: {gnb_accuracy:.4f}\")\n",
    "\n"
   ]
  },
  {
   "cell_type": "code",
   "execution_count": 12,
   "id": "bd75ca6e",
   "metadata": {},
   "outputs": [
    {
     "name": "stdout",
     "output_type": "stream",
     "text": [
      "Best Decision Tree Params: {'dt__criterion': 'entropy', 'dt__max_depth': 10}\n",
      "Decision Tree Accuracy: 0.8351\n"
     ]
    }
   ],
   "source": [
    "# ========== Decision Tree Classifier ==========\n",
    "dt_pipe = Pipeline([\n",
    "    ('scaler', StandardScaler()),\n",
    "    ('dt', DecisionTreeClassifier())\n",
    "])\n",
    "\n",
    "dt_param_grid = {\n",
    "    'dt__criterion': ['gini', 'entropy'],\n",
    "    'dt__max_depth': [10, 50, 100]\n",
    "}\n",
    "\n",
    "dt_grid_search = GridSearchCV(dt_pipe, dt_param_grid, cv=5)\n",
    "dt_grid_search.fit(X_train, y_train)\n",
    "best_dt_model = dt_grid_search.best_estimator_\n",
    "dt_accuracy = best_dt_model.score(X_test, y_test)\n",
    "\n",
    "print(\"Best Decision Tree Params:\", dt_grid_search.best_params_)\n",
    "print(f\"Decision Tree Accuracy: {dt_accuracy:.4f}\")\n",
    "\n"
   ]
  },
  {
   "cell_type": "code",
   "execution_count": 13,
   "id": "0e3ff477",
   "metadata": {},
   "outputs": [
    {
     "name": "stdout",
     "output_type": "stream",
     "text": [
      "Best SVM Params: {'svc__kernel': 'linear'}\n",
      "SVM Accuracy: 0.8484\n",
      "\n",
      "Best classifier: SVM with accuracy 0.8484\n"
     ]
    }
   ],
   "source": [
    "# ========== Support Vector Machine ==========\n",
    "svm_pipe = Pipeline([\n",
    "    ('scaler', StandardScaler()),\n",
    "    ('svc', SVC())\n",
    "])\n",
    "\n",
    "svm_param_grid = [\n",
    "    {'svc__kernel': ['linear']},\n",
    "    {'svc__kernel': ['poly'], 'svc__degree': [2, 3]},\n",
    "    {'svc__kernel': ['rbf'], 'svc__gamma': [0.001, 0.1, 2]}\n",
    "]\n",
    "\n",
    "svm_grid_search = GridSearchCV(svm_pipe, svm_param_grid, cv=5)\n",
    "svm_grid_search.fit(X_train, y_train)\n",
    "best_svm_model = svm_grid_search.best_estimator_\n",
    "svm_accuracy = best_svm_model.score(X_test, y_test)\n",
    "\n",
    "print(\"Best SVM Params:\", svm_grid_search.best_params_)\n",
    "print(f\"SVM Accuracy: {svm_accuracy:.4f}\")\n",
    "\n",
    "#best model? \n",
    "best_model = max(\n",
    "    [('GaussianNB', gnb_accuracy),\n",
    "     ('Decision Tree', dt_accuracy),\n",
    "     ('SVM', svm_accuracy)],\n",
    "    key=lambda x: x[1]\n",
    ")\n",
    "\n",
    "print(f\"\\nBest classifier: {best_model[0]} with accuracy {best_model[1]:.4f}\")\n"
   ]
  },
  {
   "cell_type": "code",
   "execution_count": null,
   "id": "cec9f5a4",
   "metadata": {},
   "outputs": [],
   "source": []
  },
  {
   "cell_type": "code",
   "execution_count": null,
   "id": "65f83b05",
   "metadata": {},
   "outputs": [],
   "source": []
  }
 ],
 "metadata": {
  "kernelspec": {
   "display_name": "Python 3",
   "language": "python",
   "name": "python3"
  },
  "language_info": {
   "codemirror_mode": {
    "name": "ipython",
    "version": 3
   },
   "file_extension": ".py",
   "mimetype": "text/x-python",
   "name": "python",
   "nbconvert_exporter": "python",
   "pygments_lexer": "ipython3",
   "version": "3.12.4"
  }
 },
 "nbformat": 4,
 "nbformat_minor": 5
}
