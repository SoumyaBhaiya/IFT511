{
 "cells": [
  {
   "cell_type": "code",
   "execution_count": 2,
   "metadata": {},
   "outputs": [],
   "source": [
    "#Using K-Fold cross validation on a9a dataset.\n",
    "#adult data. uci: https://www.csie.ntu.edu.tw/~cjlin/libsvmtools/datasets/binary.html#a9a"
   ]
  },
  {
   "cell_type": "code",
   "execution_count": 5,
   "metadata": {},
   "outputs": [],
   "source": [
    "from sklearn.datasets import load_svmlight_file\n",
    "from sklearn import svm\n",
    "import pandas as pd\n",
    "from sklearn.model_selection import GridSearchCV\n",
    "from sklearn.model_selection import cross_val_score\n"
   ]
  },
  {
   "cell_type": "code",
   "execution_count": 4,
   "metadata": {},
   "outputs": [],
   "source": [
    "X,y = load_svmlight_file(\"a9a.txt\")\n",
    "\n"
   ]
  },
  {
   "cell_type": "code",
   "execution_count": 6,
   "metadata": {},
   "outputs": [],
   "source": [
    "clf = svm.SVC(kernel='linear', C=1, random_state= 42) \n"
   ]
  },
  {
   "cell_type": "code",
   "execution_count": 7,
   "metadata": {},
   "outputs": [
    {
     "name": "stdout",
     "output_type": "stream",
     "text": [
      "Training classifier with cross validation, k=5\n",
      "Training Complete!\n",
      "Cross Validation Mean Accuracy = 0.85\n",
      "Standard Deviation of the Mean Accuracy across all runs = 0.00\n"
     ]
    }
   ],
   "source": [
    "print(\"Training classifier with cross validation, k=5\")\n",
    "scores = cross_val_score(clf, X, y, cv=5)\n",
    "print(\"Training Complete!\")\n",
    "acc = scores.mean() \n",
    "stdiv = scores.std()\n",
    "print(\"Cross Validation Mean Accuracy = %0.2f\" % acc )\n",
    "print(\"Standard Deviation of the Mean Accuracy across all runs = %0.2f\" % stdiv)"
   ]
  },
  {
   "cell_type": "code",
   "execution_count": 8,
   "metadata": {},
   "outputs": [
    {
     "name": "stdout",
     "output_type": "stream",
     "text": [
      "Training classifier with cross validation, k=5\n",
      "Training Complete!\n",
      "Cross Validation Mean Accuracy = 0.85\n",
      "Standard Deviation of the Mean Accuracy across all runs = 0.00\n"
     ]
    }
   ],
   "source": [
    "clf = svm.SVC(kernel='rbf', C=1,gamma=0.1, random_state= 42) #added gamma 0.1\n",
    "print(\"Training classifier with cross validation, k=5\")\n",
    "scores = cross_val_score(clf, X, y, cv=5)\n",
    "print(\"Training Complete!\")\n",
    "acc = scores.mean() \n",
    "stdiv = scores.std()\n",
    "print(\"Cross Validation Mean Accuracy = %0.2f\" % acc )\n",
    "print(\"Standard Deviation of the Mean Accuracy across all runs = %0.2f\" % stdiv)"
   ]
  },
  {
   "cell_type": "code",
   "execution_count": 9,
   "metadata": {},
   "outputs": [
    {
     "name": "stdout",
     "output_type": "stream",
     "text": [
      "Training classifier with cross validation, k=5\n",
      "Training Complete!\n",
      "Cross Validation Mean Accuracy = 0.84\n",
      "Standard Deviation of the Mean Accuracy across all runs = 0.00\n"
     ]
    }
   ],
   "source": [
    "clf = svm.SVC(kernel='rbf', C=1, gamma=0.01, random_state= 42) #added gamma 0.1\n",
    "print(\"Training classifier with cross validation, k=5\")\n",
    "scores = cross_val_score(clf, X, y, cv=5)\n",
    "print(\"Training Complete!\")\n",
    "acc = scores.mean() \n",
    "stdiv = scores.std()\n",
    "print(\"Cross Validation Mean Accuracy = %0.2f\" % acc )\n",
    "print(\"Standard Deviation of the Mean Accuracy across all runs = %0.2f\" % stdiv)"
   ]
  },
  {
   "cell_type": "code",
   "execution_count": 10,
   "metadata": {},
   "outputs": [
    {
     "name": "stdout",
     "output_type": "stream",
     "text": [
      "Training classifier with cross validation, k=5\n",
      "Training Complete!\n",
      "Cross Validation Mean Accuracy = 0.85\n",
      "Standard Deviation of the Mean Accuracy across all runs = 0.00\n"
     ]
    }
   ],
   "source": [
    "clf = svm.SVC(kernel='poly', C=1, degree=2, random_state= 42) #added gamma 0.1\n",
    "print(\"Training classifier with cross validation, k=5\")\n",
    "scores = cross_val_score(clf, X, y, cv=5)\n",
    "print(\"Training Complete!\")\n",
    "acc = scores.mean() \n",
    "stdiv = scores.std()\n",
    "print(\"Cross Validation Mean Accuracy = %0.2f\" % acc )\n",
    "print(\"Standard Deviation of the Mean Accuracy across all runs = %0.2f\" % stdiv)"
   ]
  },
  {
   "cell_type": "code",
   "execution_count": 13,
   "metadata": {},
   "outputs": [],
   "source": [
    "X,y = load_svmlight_file(\"a1a.txt\")"
   ]
  },
  {
   "cell_type": "code",
   "execution_count": 14,
   "metadata": {},
   "outputs": [
    {
     "name": "stdout",
     "output_type": "stream",
     "text": [
      "Creating classifier object...\n",
      "Creating a grid search cross validator object...\n",
      "Fitting the models with different parameters...\n",
      "Writing all fitting results...\n"
     ]
    }
   ],
   "source": [
    "param_grid = [ \n",
    " {'C': [1, 10], 'kernel': ['linear']}, \n",
    " {'C': [1, 10], 'gamma': [0.001, 0.01], 'kernel': ['rbf']}, \n",
    " ]\n",
    "print(\"Creating classifier object...\")\n",
    "svc = svm.SVC()\n",
    "print(\"Creating a grid search cross validator object...\")\n",
    "clf = GridSearchCV(svc, param_grid)\n",
    "print(\"Fitting the models with different parameters...\")\n",
    "clf.fit(X, y)\n",
    "print(\"Writing all fitting results...\")\n",
    "df = pd.DataFrame(clf.cv_results_)\n",
    "df.to_csv(\"Parameter_Tuning_Results.csv\")\n"
   ]
  },
  {
   "cell_type": "code",
   "execution_count": 15,
   "metadata": {},
   "outputs": [
    {
     "name": "stdout",
     "output_type": "stream",
     "text": [
      "Creating classifier object...\n",
      "Creating a grid search cross validator object...\n",
      "Fitting the models with different parameters...\n",
      "Writing all fitting results...\n",
      "Extracting testing errors for polynomial kernel parameters...\n",
      "    param_C  param_degree  test_error\n",
      "6      0.01           2.0    0.246106\n",
      "7      0.01           3.0    0.246106\n",
      "8      0.10           2.0    0.186293\n",
      "9      0.10           3.0    0.191900\n",
      "10     1.00           2.0    0.168224\n",
      "11     1.00           3.0    0.169470\n",
      "12    10.00           2.0    0.188785\n",
      "13    10.00           3.0    0.203115\n",
      "Ranking different parameter sets based on accuracy...\n",
      "Rank 1: {'param_C': 1.0, 'param_kernel': 'poly', 'param_gamma': nan, 'param_degree': 2.0}, Mean Test Accuracy=0.8317757009345794, Mean StdDev=0.024922118380062308\n",
      "Rank 2: {'param_C': 1.0, 'param_kernel': 'poly', 'param_gamma': nan, 'param_degree': 3.0}, Mean Test Accuracy=0.8305295950155763, Mean StdDev=0.025809738538576925\n",
      "Rank 3: {'param_C': 10.0, 'param_kernel': 'linear', 'param_gamma': nan, 'param_degree': nan}, Mean Test Accuracy=0.8286604361370715, Mean StdDev=0.020092854201367107\n",
      "Rank 4: {'param_C': 10.0, 'param_kernel': 'rbf', 'param_gamma': 0.01, 'param_degree': nan}, Mean Test Accuracy=0.8274143302180686, Mean StdDev=0.023445342956045834\n",
      "Rank 5: {'param_C': 1.0, 'param_kernel': 'linear', 'param_gamma': nan, 'param_degree': nan}, Mean Test Accuracy=0.8274143302180684, Mean StdDev=0.020054176871565212\n",
      "Rank 6: {'param_C': 10.0, 'param_kernel': 'rbf', 'param_gamma': 0.001, 'param_degree': nan}, Mean Test Accuracy=0.8249221183800624, Mean StdDev=0.023593889381634255\n",
      "Rank 7: {'param_C': 1.0, 'param_kernel': 'rbf', 'param_gamma': 0.01, 'param_degree': nan}, Mean Test Accuracy=0.8230529595015575, Mean StdDev=0.02464014944957656\n",
      "Rank 8: {'param_C': 0.1, 'param_kernel': 'poly', 'param_gamma': nan, 'param_degree': 2.0}, Mean Test Accuracy=0.8137071651090343, Mean StdDev=0.01799318265195471\n",
      "Rank 9: {'param_C': 10.0, 'param_kernel': 'poly', 'param_gamma': nan, 'param_degree': 2.0}, Mean Test Accuracy=0.811214953271028, Mean StdDev=0.017017445836445686\n",
      "Rank 10: {'param_C': 0.1, 'param_kernel': 'poly', 'param_gamma': nan, 'param_degree': 3.0}, Mean Test Accuracy=0.8080996884735201, Mean StdDev=0.02172659909552984\n",
      "Rank 11: {'param_C': 10.0, 'param_kernel': 'poly', 'param_gamma': nan, 'param_degree': 3.0}, Mean Test Accuracy=0.7968847352024921, Mean StdDev=0.01426233413365682\n",
      "Rank 12: {'param_C': 1.0, 'param_kernel': 'rbf', 'param_gamma': 0.001, 'param_degree': nan}, Mean Test Accuracy=0.7538940809968847, Mean StdDev=0.0\n",
      "Rank 13: {'param_C': 0.01, 'param_kernel': 'poly', 'param_gamma': nan, 'param_degree': 2.0}, Mean Test Accuracy=0.7538940809968847, Mean StdDev=0.0\n",
      "Rank 14: {'param_C': 0.01, 'param_kernel': 'poly', 'param_gamma': nan, 'param_degree': 3.0}, Mean Test Accuracy=0.7538940809968847, Mean StdDev=0.0\n"
     ]
    }
   ],
   "source": [
    "param_grid = [\n",
    "    {'C': [1, 10], 'kernel': ['linear']},\n",
    "    {'C': [1, 10], 'gamma': [0.001, 0.01], 'kernel': ['rbf']},\n",
    "    {'C': [0.01, 0.1, 1, 10], 'degree': [2, 3], 'kernel': ['poly']}\n",
    "]\n",
    "\n",
    "print(\"Creating classifier object...\")\n",
    "svc = svm.SVC()\n",
    "\n",
    "print(\"Creating a grid search cross validator object...\")\n",
    "clf = GridSearchCV(svc, param_grid)\n",
    "\n",
    "print(\"Fitting the models with different parameters...\")\n",
    "clf.fit(X, y)\n",
    "\n",
    "print(\"Writing all fitting results...\")\n",
    "df = pd.DataFrame(clf.cv_results_)\n",
    "df.to_csv(\"Parameter_Tuning_Results.csv\")\n",
    "\n",
    "print(\"Extracting testing errors for polynomial kernel parameters...\")\n",
    "poly_results = df[df['param_kernel'] == 'poly'][['param_C', 'param_degree', 'mean_test_score']]\n",
    "poly_results['test_error'] = 1 - poly_results['mean_test_score']\n",
    "print(poly_results[['param_C', 'param_degree', 'test_error']])\n",
    "\n",
    "print(\"Ranking different parameter sets based on accuracy...\")\n",
    "sorted_results = df.sort_values(by='mean_test_score', ascending=False)\n",
    "for rank, (_, row) in enumerate(sorted_results.iterrows(), start=1):\n",
    "    params = {key: row[key] for key in df.columns if key.startswith('param_')}\n",
    "    mean_accuracy = row['mean_test_score']\n",
    "    std_dev = row['std_test_score']\n",
    "    print(f\"Rank {rank}: {params}, Mean Test Accuracy={mean_accuracy}, Mean StdDev={std_dev}\")\n"
   ]
  },
  {
   "cell_type": "code",
   "execution_count": null,
   "metadata": {},
   "outputs": [
    {
     "name": "stdout",
     "output_type": "stream",
     "text": [
      "Loading Dataset...\n",
      "Running K-Fold Cross Validation for SVM with {'kernel': 'linear', 'gamma': 'scale'}\n",
      "Average Accuracy for {'kernel': 'linear', 'gamma': 'scale'}: 0.8361370716510903\n",
      "Running K-Fold Cross Validation for SVM with {'kernel': 'rbf', 'gamma': 0.01}\n",
      "Average Accuracy for {'kernel': 'rbf', 'gamma': 0.01}: 0.8299065420560747\n",
      "Running K-Fold Cross Validation for SVM with {'kernel': 'rbf', 'gamma': 0.001}\n",
      "Average Accuracy for {'kernel': 'rbf', 'gamma': 0.001}: 0.7538940809968847\n"
     ]
    }
   ],
   "source": [
    "from sklearn.datasets import load_svmlight_file\n",
    "from sklearn import svm\n",
    "import pandas as pd\n",
    "import numpy as np\n",
    "from sklearn.model_selection import KFold\n",
    "\n",
    "print(\"Loading Dataset...\")\n",
    "X, y = load_svmlight_file(\"a1a.txt\")\n",
    "X = X.toarray()  # Convert sparse matrix to dense for splitting\n",
    "\n",
    "K = 5\n",
    "kf = KFold(n_splits=K, shuffle=True, random_state=42)\n",
    "\n",
    "models = [\n",
    "    {\"kernel\": \"linear\", \"gamma\": \"scale\"},\n",
    "    {\"kernel\": \"rbf\", \"gamma\": 0.01},\n",
    "    {\"kernel\": \"rbf\", \"gamma\": 0.001}\n",
    "]\n",
    "\n",
    "for model_params in models:\n",
    "    print(f\"Running K-Fold Cross Validation for SVM with {model_params}\")\n",
    "    accuracies = []\n",
    "    \n",
    "    for train_index, test_index in kf.split(X):\n",
    "        X_train, X_test = X[train_index], X[test_index]\n",
    "        y_train, y_test = y[train_index], y[test_index]\n",
    "        \n",
    "        model = svm.SVC(kernel=model_params[\"kernel\"], gamma=model_params[\"gamma\"], C=1)\n",
    "        model.fit(X_train, y_train)\n",
    "        accuracy = model.score(X_test, y_test)\n",
    "        accuracies.append(accuracy)\n",
    "    \n",
    "    avg_accuracy = np.mean(accuracies)\n",
    "    print(f\"Average Accuracy for {model_params}: {avg_accuracy}\")\n",
    "\n",
    "\n"
   ]
  },
  {
   "cell_type": "code",
   "execution_count": null,
   "metadata": {},
   "outputs": [],
   "source": []
  }
 ],
 "metadata": {
  "kernelspec": {
   "display_name": "Python 3",
   "language": "python",
   "name": "python3"
  },
  "language_info": {
   "codemirror_mode": {
    "name": "ipython",
    "version": 3
   },
   "file_extension": ".py",
   "mimetype": "text/x-python",
   "name": "python",
   "nbconvert_exporter": "python",
   "pygments_lexer": "ipython3",
   "version": "3.12.4"
  }
 },
 "nbformat": 4,
 "nbformat_minor": 2
}
