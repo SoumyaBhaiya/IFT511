{
 "cells": [
  {
   "cell_type": "code",
   "execution_count": 1,
   "metadata": {},
   "outputs": [],
   "source": [
    "#working with the health data"
   ]
  },
  {
   "cell_type": "code",
   "execution_count": 10,
   "metadata": {},
   "outputs": [],
   "source": [
    "import numpy as np\n",
    "from scipy.spatial.distance import euclidean\n",
    "import pandas as pd\n",
    "\n"
   ]
  },
  {
   "cell_type": "code",
   "execution_count": 11,
   "metadata": {},
   "outputs": [],
   "source": [
    "health_data = pd.read_csv(\"health_data.txt\").values #the values are comma seperated so it should work on txt files.\n",
    "\n",
    "num_people = len(health_data) \n",
    "best_matches = []\n",
    "\n",
    "\n"
   ]
  },
  {
   "cell_type": "code",
   "execution_count": 15,
   "metadata": {},
   "outputs": [],
   "source": [
    "for i in range(num_people):\n",
    "    max_similarity = -1\n",
    "    best_match = None\n",
    "    \n",
    "    for j in range(num_people):\n",
    "        if i == j:\n",
    "            continue  #skipping self comparsion\n",
    "        \n",
    "        #smc\n",
    "        matches = np.sum(health_data[i][:3] == health_data[j][:3])\n",
    "        sim_1 = matches / 3\n",
    "        \n",
    "        #euclidean \n",
    "        dist = euclidean(health_data[i][3:], health_data[j][3:])\n",
    "        sim_2 = 1 / (1 + dist)  #distance would be converted to similarity\n",
    "        \n",
    "        #average here according to the algorithm. number/total. \n",
    "        sim_uv = (sim_1 + sim_2) / 2\n",
    "        \n",
    "        if sim_uv > max_similarity:\n",
    "            max_similarity = sim_uv\n",
    "            best_match = j\n",
    "    \n",
    "    best_matches.append((i, best_match, max_similarity)) #appending values to list."
   ]
  },
  {
   "cell_type": "code",
   "execution_count": 16,
   "metadata": {},
   "outputs": [
    {
     "name": "stdout",
     "output_type": "stream",
     "text": [
      "prson 0 is most similar to person 2 with similarity 0.3722\n",
      "prson 1 is most similar to person 3 with similarity 0.3803\n",
      "prson 2 is most similar to person 0 with similarity 0.3722\n",
      "prson 3 is most similar to person 1 with similarity 0.3803\n",
      "prson 4 is most similar to person 0 with similarity 0.3705\n",
      "prson 0 is most similar to person 2 with similarity 0.3722\n",
      "prson 1 is most similar to person 3 with similarity 0.3803\n",
      "prson 2 is most similar to person 0 with similarity 0.3722\n",
      "prson 3 is most similar to person 1 with similarity 0.3803\n",
      "prson 4 is most similar to person 0 with similarity 0.3705\n"
     ]
    }
   ],
   "source": [
    "for u, v, sim in best_matches:\n",
    "    print(f'prson {u} is most similar to person {v} with similarity {sim:.4f}') #taking till 4 decimal places.\n",
    "#The person are gonna get named (0,1,2 etc) according to their indexes. so the 1st row would be 0th person. \n",
    "#ONLY RUN THIS ONCE OTHERWISE THE LIST GONNA KEEP ON GETTING LONGER WITH THE SAME VALUES SINCE I AM APPENDING."
   ]
  },
  {
   "cell_type": "code",
   "execution_count": null,
   "metadata": {},
   "outputs": [],
   "source": []
  },
  {
   "cell_type": "code",
   "execution_count": null,
   "metadata": {},
   "outputs": [],
   "source": []
  }
 ],
 "metadata": {
  "kernelspec": {
   "display_name": "Python 3",
   "language": "python",
   "name": "python3"
  },
  "language_info": {
   "codemirror_mode": {
    "name": "ipython",
    "version": 3
   },
   "file_extension": ".py",
   "mimetype": "text/x-python",
   "name": "python",
   "nbconvert_exporter": "python",
   "pygments_lexer": "ipython3",
   "version": "3.12.4"
  }
 },
 "nbformat": 4,
 "nbformat_minor": 2
}
